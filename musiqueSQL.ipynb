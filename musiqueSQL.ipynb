{
 "cells": [
  {
   "cell_type": "markdown",
   "id": "b1bdaf96",
   "metadata": {},
   "source": [
    "## RECUPERER TOUS LES ALBUMS"
   ]
  },
  {
   "cell_type": "code",
   "execution_count": null,
   "id": "951c9c9a",
   "metadata": {},
   "outputs": [],
   "source": [
    "SELECT * FROM albums"
   ]
  },
  {
   "cell_type": "markdown",
   "id": "ffa865a1",
   "metadata": {},
   "source": [
    "## RECUPERER TOUS LES ALBUMS : GREAT"
   ]
  },
  {
   "cell_type": "code",
   "execution_count": null,
   "id": "8f883dd7",
   "metadata": {},
   "outputs": [],
   "source": [
    "SELECT * FROM albums WHERE title LIKE '%Great%'"
   ]
  },
  {
   "cell_type": "markdown",
   "id": "09a54503",
   "metadata": {},
   "source": [
    "## NOMBRE TOTAL D'ALBUMS"
   ]
  },
  {
   "cell_type": "code",
   "execution_count": null,
   "id": "cc72f182",
   "metadata": {},
   "outputs": [],
   "source": [
    "SELECT COUNT(*) FROM albums"
   ]
  },
  {
   "cell_type": "markdown",
   "id": "69af9c5f",
   "metadata": {},
   "source": [
    "## SUPPRIMER ALBUMS QUI CONTIENNENT \"MUSIC\""
   ]
  },
  {
   "cell_type": "code",
   "execution_count": null,
   "id": "ce2c2078",
   "metadata": {},
   "outputs": [],
   "source": [
    "DELETE FROM albums WHERE title LIKE '%music%'"
   ]
  },
  {
   "cell_type": "markdown",
   "id": "1218f237",
   "metadata": {},
   "source": [
    "## ALBUMS ECRITS PAR ACDC"
   ]
  },
  {
   "cell_type": "code",
   "execution_count": null,
   "id": "7fb59ba0",
   "metadata": {},
   "outputs": [],
   "source": [
    "SELECT * FROM albums NATURAL JOIN artists WHERE name = 'AC/DC'"
   ]
  },
  {
   "cell_type": "markdown",
   "id": "aea991f5",
   "metadata": {},
   "source": [
    "## Récupérer tous les titres des albums de AC/DC"
   ]
  },
  {
   "cell_type": "code",
   "execution_count": null,
   "id": "592ca119",
   "metadata": {},
   "outputs": [],
   "source": [
    "SELECT * FROM albums, artists, tracks WHERE albums.ArtistId = artists.ArtistId AND albums.AlbumId = tracks.AlbumId AND artists.Name ='AC/DC';"
   ]
  },
  {
   "cell_type": "markdown",
   "id": "03c96773",
   "metadata": {},
   "source": [
    "## Récupérer la liste des titres de l'album \"Let There Be Rock\""
   ]
  },
  {
   "cell_type": "code",
   "execution_count": null,
   "id": "966de008",
   "metadata": {},
   "outputs": [],
   "source": [
    "SELECT * FROM albums, artists, tracks WHERE albums.artistid = artists.artistid AND albums.albumid = tracks.albumid AND albums.title = 'Let There Be Rock';"
   ]
  },
  {
   "cell_type": "markdown",
   "id": "eb47eef1",
   "metadata": {},
   "source": [
    "## Afficher le prix de cet album ainsi que sa durée totale"
   ]
  },
  {
   "cell_type": "code",
   "execution_count": null,
   "id": "0cf80d9e",
   "metadata": {},
   "outputs": [],
   "source": [
    "SELECT SUM(tracks.milliseconds), SUM (tracks.unitprice) FROM albums, artists, tracks WHERE albums.artistid = artists.artistid AND albums.albumid = tracks.albumid AND albums.title = 'Let There Be Rock'"
   ]
  },
  {
   "cell_type": "markdown",
   "id": "ed36a2ec",
   "metadata": {},
   "source": [
    "## Afficher le coût de l'intégralité de la discographie de \"Deep Purple\""
   ]
  },
  {
   "cell_type": "code",
   "execution_count": 2,
   "id": "e7b8b7da",
   "metadata": {},
   "outputs": [
    {
     "ename": "SyntaxError",
     "evalue": "invalid syntax (<ipython-input-2-b1f8fe0ab1d4>, line 1)",
     "output_type": "error",
     "traceback": [
      "\u001b[0;36m  File \u001b[0;32m\"<ipython-input-2-b1f8fe0ab1d4>\"\u001b[0;36m, line \u001b[0;32m1\u001b[0m\n\u001b[0;31m    SELECT SUM(tracks.unitprice) FROM albums, artists, tracks WHERE albums.artistid = artists.artistid AND albums.albumid = tracks.albumid AND artists.name = 'Deep Purple'\u001b[0m\n\u001b[0m             ^\u001b[0m\n\u001b[0;31mSyntaxError\u001b[0m\u001b[0;31m:\u001b[0m invalid syntax\n"
     ]
    }
   ],
   "source": [
    "SELECT SUM(tracks.unitprice) FROM albums, artists, tracks WHERE albums.artistid = artists.artistid AND albums.albumid = tracks.albumid AND artists.name = 'Deep Purple'"
   ]
  },
  {
   "cell_type": "markdown",
   "id": "2e518c32",
   "metadata": {},
   "source": [
    "## Créer l'album de ton artiste favori en base, en renseignant correctement les trois tables albums, artists et tracks"
   ]
  },
  {
   "cell_type": "code",
   "execution_count": null,
   "id": "2609ade2",
   "metadata": {},
   "outputs": [],
   "source": []
  },
  {
   "cell_type": "code",
   "execution_count": null,
   "id": "6ca9f8ab",
   "metadata": {},
   "outputs": [],
   "source": []
  },
  {
   "cell_type": "code",
   "execution_count": null,
   "id": "deeaa542",
   "metadata": {},
   "outputs": [],
   "source": []
  },
  {
   "cell_type": "code",
   "execution_count": null,
   "id": "9a984e6d",
   "metadata": {},
   "outputs": [],
   "source": []
  },
  {
   "cell_type": "code",
   "execution_count": null,
   "id": "2e98a794",
   "metadata": {},
   "outputs": [],
   "source": []
  },
  {
   "cell_type": "code",
   "execution_count": null,
   "id": "8ddbf13b",
   "metadata": {},
   "outputs": [],
   "source": []
  },
  {
   "cell_type": "code",
   "execution_count": null,
   "id": "b5ca32e5",
   "metadata": {},
   "outputs": [],
   "source": []
  },
  {
   "cell_type": "code",
   "execution_count": null,
   "id": "e5a9984b",
   "metadata": {},
   "outputs": [],
   "source": []
  },
  {
   "cell_type": "code",
   "execution_count": null,
   "id": "e719d5d6",
   "metadata": {},
   "outputs": [],
   "source": []
  }
 ],
 "metadata": {
  "kernelspec": {
   "display_name": "Python 3",
   "language": "python",
   "name": "python3"
  },
  "language_info": {
   "codemirror_mode": {
    "name": "ipython",
    "version": 3
   },
   "file_extension": ".py",
   "mimetype": "text/x-python",
   "name": "python",
   "nbconvert_exporter": "python",
   "pygments_lexer": "ipython3",
   "version": "3.7.6"
  }
 },
 "nbformat": 4,
 "nbformat_minor": 5
}
