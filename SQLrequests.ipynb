{
 "cells": [
  {
   "cell_type": "code",
   "execution_count": null,
   "id": "022856d9",
   "metadata": {},
   "outputs": [],
   "source": [
    "SELECT * FROM entity"
   ]
  },
  {
   "cell_type": "code",
   "execution_count": null,
   "id": "77849532",
   "metadata": {},
   "outputs": [],
   "source": [
    "PROJECTION"
   ]
  },
  {
   "cell_type": "code",
   "execution_count": null,
   "id": "0db6dc86",
   "metadata": {},
   "outputs": [],
   "source": [
    "SELECT id, name, status FROM entity #colonne id name et entity conservees"
   ]
  },
  {
   "cell_type": "code",
   "execution_count": null,
   "id": "46cd4dd0",
   "metadata": {},
   "outputs": [],
   "source": [
    "RESTRICTION : WHERE"
   ]
  },
  {
   "cell_type": "code",
   "execution_count": null,
   "id": "a7f14755",
   "metadata": {},
   "outputs": [],
   "source": [
    "SELECT * FROM entity WHERE name = 'BIg Data Crunchers Ltd.'"
   ]
  },
  {
   "cell_type": "code",
   "execution_count": null,
   "id": "45dddba2",
   "metadata": {},
   "outputs": [],
   "source": [
    "ICI : differents operateurs possibles"
   ]
  },
  {
   "cell_type": "code",
   "execution_count": null,
   "id": "90c10275",
   "metadata": {},
   "outputs": [],
   "source": [
    "PRODUIT CARTESIEN (entre deux tables entity et adress)"
   ]
  },
  {
   "cell_type": "code",
   "execution_count": null,
   "id": "8aca00b6",
   "metadata": {},
   "outputs": [],
   "source": [
    "SELECT * FROM entity, adress;"
   ]
  },
  {
   "cell_type": "code",
   "execution_count": null,
   "id": "23130457",
   "metadata": {},
   "outputs": [],
   "source": []
  },
  {
   "cell_type": "code",
   "execution_count": null,
   "id": "6e0802bf",
   "metadata": {},
   "outputs": [],
   "source": []
  },
  {
   "cell_type": "code",
   "execution_count": null,
   "id": "a7d3de6a",
   "metadata": {},
   "outputs": [],
   "source": []
  }
 ],
 "metadata": {
  "kernelspec": {
   "display_name": "Python 3",
   "language": "python",
   "name": "python3"
  },
  "language_info": {
   "codemirror_mode": {
    "name": "ipython",
    "version": 3
   },
   "file_extension": ".py",
   "mimetype": "text/x-python",
   "name": "python",
   "nbconvert_exporter": "python",
   "pygments_lexer": "ipython3",
   "version": "3.7.6"
  }
 },
 "nbformat": 4,
 "nbformat_minor": 5
}
