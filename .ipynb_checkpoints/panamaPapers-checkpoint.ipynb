{
 "cells": [
  {
   "cell_type": "markdown",
   "id": "8d88ebc1",
   "metadata": {},
   "source": [
    "## Combien la base de données contient-elle de sociétés offshores différentes dont la source est \"Panama Papers\" ?"
   ]
  },
  {
   "cell_type": "code",
   "execution_count": null,
   "id": "cab9f480",
   "metadata": {},
   "outputs": [],
   "source": [
    "SELECT COUNT (DISTINCT name) FROM entity WHERE entity.source = 'Panama Papers' AND entity.name IS not NULL"
   ]
  },
  {
   "cell_type": "markdown",
   "id": "d107cd13",
   "metadata": {},
   "source": [
    "## Quel intermédiaire a créé le plus de sociétés offshores ? A-t-on son adresse et son pays ?"
   ]
  },
  {
   "cell_type": "code",
   "execution_count": null,
   "id": "0005c86e",
   "metadata": {},
   "outputs": [],
   "source": [
    "#LE PLUS DE SOCIETE OFFSHORES\n",
    "SELECT intermediary.name, \n",
    "count(*) as nb_int\n",
    "FROM entity, intermediary\n",
    "WHERE entity.id_address = intermediary.id_address\n",
    "GROUP BY intermediary.name\n",
    "ORDER BY nb_int DESC\n",
    "LIMIT 3\n",
    "\n",
    "## ADRESSE ET PAYS\n",
    "SELECT entity.name, intermediary.name, address.address, address.countries, address.country_codes,\n",
    "count(*) as nb_int\n",
    "FROM entity, intermediary, address\n",
    "WHERE entity.id_address = intermediary.id_address and intermediary.id_address = address.id_address\n",
    "GROUP BY intermediary.name\n",
    "ORDER BY nb_int DESC\n",
    "LIMIT 3"
   ]
  },
  {
   "cell_type": "markdown",
   "id": "f7babc16",
   "metadata": {},
   "source": [
    "## Combien la base contient-elle de bénéficiaires avec un nom unique ? Quel est le bénéficiaire dont le nom revient le plus souvent ? "
   ]
  },
  {
   "cell_type": "code",
   "execution_count": null,
   "id": "7acb279b",
   "metadata": {},
   "outputs": [],
   "source": [
    "## NOMS UNIQUES\n",
    "SELECT COUNT (DISTINCT name)\n",
    "FROM officer\n",
    "\n",
    "\n",
    "## BENEFICIAIRE LE PLUS PRESENT\n",
    "SELECT officer.name,\n",
    "count(*) as nb_name\n",
    "FROM officer\n",
    "GROUP BY officer.name\n",
    "ORDER BY nb_name DESC\n",
    "LIMIT 3"
   ]
  },
  {
   "cell_type": "markdown",
   "id": "58aa5cfc",
   "metadata": {},
   "source": [
    "## Donner la liste des juridictions avec le nombre d'entreprises offshores enregistrées sur chaque territoire, triée par ordre décroissant."
   ]
  },
  {
   "cell_type": "code",
   "execution_count": null,
   "id": "ac54a0e8",
   "metadata": {},
   "outputs": [],
   "source": [
    "SELECT entity.jurisdiction, entity.jurisdiction_description,\n",
    "count(*) as nb_entity\n",
    "FROM entity\n",
    "GROUP BY jurisdiction\n",
    "ORDER BY nb_entity DESC"
   ]
  },
  {
   "cell_type": "markdown",
   "id": "c42b6a83",
   "metadata": {},
   "source": [
    "## Regrouper les sociétés offshores par statut, et trier la liste par ordre décroissant."
   ]
  },
  {
   "cell_type": "code",
   "execution_count": null,
   "id": "dc666ce9",
   "metadata": {},
   "outputs": [],
   "source": [
    "SELECT entity.status,\n",
    "count(*) as nb_status\n",
    "FROM entity\n",
    "GROUP BY status\n",
    "ORDER BY nb_status ASC"
   ]
  },
  {
   "cell_type": "markdown",
   "id": "66a28584",
   "metadata": {},
   "source": [
    "## Trouver la liste des bénéficiaires dont le nom contient \"BNP\" et ajouter, pour chaque bénéficiaire, le nom des sociétés offshores."
   ]
  },
  {
   "cell_type": "code",
   "execution_count": null,
   "id": "16551632",
   "metadata": {},
   "outputs": [],
   "source": [
    "SELECT officer.name, entity.name\n",
    "FROM entity, assoc_officer_entity, officer\n",
    "WHERE assoc_officer_entity.officer = officer.id and assoc_officer_entity.entity = entity.id AND officer.name LIKE '%BNP%'"
   ]
  },
  {
   "cell_type": "markdown",
   "id": "a8437294",
   "metadata": {},
   "source": [
    "## Trouver la liste des sociétés dont la juridiction est \"France\", \"Monaco\" ou \"Réunion\"."
   ]
  },
  {
   "cell_type": "code",
   "execution_count": null,
   "id": "8f91e6f7",
   "metadata": {},
   "outputs": [],
   "source": [
    "SELECT entity.name, entity.jurisdiction, entity.jurisdiction_description\n",
    "FROM entity\n",
    "WHERE entity.jurisdiction_description LIKE '%France%' OR entity.jurisdiction_description LIKE '%Monaco%' OR entity.jurisdiction_description LIKE '%Reunion%'"
   ]
  },
  {
   "cell_type": "markdown",
   "id": "f32d53f6",
   "metadata": {},
   "source": [
    "Aucun resultat (normal, voir questions sur les pays)."
   ]
  },
  {
   "cell_type": "code",
   "execution_count": null,
   "id": "4a638d77",
   "metadata": {},
   "outputs": [],
   "source": []
  },
  {
   "cell_type": "code",
   "execution_count": null,
   "id": "94185098",
   "metadata": {},
   "outputs": [],
   "source": []
  },
  {
   "cell_type": "code",
   "execution_count": null,
   "id": "732efec7",
   "metadata": {},
   "outputs": [],
   "source": []
  },
  {
   "cell_type": "code",
   "execution_count": null,
   "id": "e274abeb",
   "metadata": {},
   "outputs": [],
   "source": []
  }
 ],
 "metadata": {
  "kernelspec": {
   "display_name": "Python 3",
   "language": "python",
   "name": "python3"
  },
  "language_info": {
   "codemirror_mode": {
    "name": "ipython",
    "version": 3
   },
   "file_extension": ".py",
   "mimetype": "text/x-python",
   "name": "python",
   "nbconvert_exporter": "python",
   "pygments_lexer": "ipython3",
   "version": "3.7.6"
  }
 },
 "nbformat": 4,
 "nbformat_minor": 5
}
